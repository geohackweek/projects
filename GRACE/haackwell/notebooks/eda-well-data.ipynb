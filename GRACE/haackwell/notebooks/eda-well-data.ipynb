{
 "cells": [
  {
   "cell_type": "code",
   "execution_count": 184,
   "metadata": {
    "code_folding": [],
    "collapsed": true
   },
   "outputs": [],
   "source": [
    "# Load packages needed\n",
    "import pandas as pd\n",
    "import numpy as np"
   ]
  },
  {
   "cell_type": "markdown",
   "metadata": {},
   "source": [
    "# Loading in well data"
   ]
  },
  {
   "cell_type": "code",
   "execution_count": 185,
   "metadata": {},
   "outputs": [
    {
     "data": {
      "text/html": [
       "<div>\n",
       "<style>\n",
       "    .dataframe thead tr:only-child th {\n",
       "        text-align: right;\n",
       "    }\n",
       "\n",
       "    .dataframe thead th {\n",
       "        text-align: left;\n",
       "    }\n",
       "\n",
       "    .dataframe tbody tr th {\n",
       "        vertical-align: top;\n",
       "    }\n",
       "</style>\n",
       "<table border=\"1\" class=\"dataframe\">\n",
       "  <thead>\n",
       "    <tr style=\"text-align: right;\">\n",
       "      <th></th>\n",
       "      <th>WELL_ID</th>\n",
       "      <th>LAT_DD</th>\n",
       "      <th>LONG_DD</th>\n",
       "      <th>FUNC</th>\n",
       "      <th>STATUS</th>\n",
       "      <th>COD_FCN</th>\n",
       "      <th>COD_QTY</th>\n",
       "      <th>COD_RESRCE</th>\n",
       "      <th>ADM1</th>\n",
       "      <th>ADM2</th>\n",
       "      <th>ACTIVITY</th>\n",
       "      <th>COUNTRY</th>\n",
       "      <th>WATERSRC</th>\n",
       "      <th>WATERTECH</th>\n",
       "      <th>INSTALLED</th>\n",
       "      <th>MGMT</th>\n",
       "      <th>PAY</th>\n",
       "      <th>SOURCE</th>\n",
       "      <th>RPT_DATE</th>\n",
       "    </tr>\n",
       "  </thead>\n",
       "  <tbody>\n",
       "    <tr>\n",
       "      <th>0</th>\n",
       "      <td>362092</td>\n",
       "      <td>5.982436</td>\n",
       "      <td>-8.180609</td>\n",
       "      <td>Yes</td>\n",
       "      <td>Working but with problems. Well polluted|Under...</td>\n",
       "      <td>2</td>\n",
       "      <td>1</td>\n",
       "      <td>0</td>\n",
       "      <td>Grand Gedeh</td>\n",
       "      <td>Tchien</td>\n",
       "      <td>zmbpw</td>\n",
       "      <td>LR</td>\n",
       "      <td>Manual pump on hand-dug well</td>\n",
       "      <td>Vergnet</td>\n",
       "      <td>0</td>\n",
       "      <td>NaN</td>\n",
       "      <td>No water committee</td>\n",
       "      <td>WASH Liberia</td>\n",
       "      <td>21/01/2011</td>\n",
       "    </tr>\n",
       "    <tr>\n",
       "      <th>1</th>\n",
       "      <td>362100</td>\n",
       "      <td>5.899207</td>\n",
       "      <td>-8.173315</td>\n",
       "      <td>Yes</td>\n",
       "      <td>Working but with problems. Well polluted|Under...</td>\n",
       "      <td>2</td>\n",
       "      <td>1</td>\n",
       "      <td>0</td>\n",
       "      <td>Grand Gedeh</td>\n",
       "      <td>Tchien</td>\n",
       "      <td>z4ja5</td>\n",
       "      <td>LR</td>\n",
       "      <td>Manual pump on hand-dug well</td>\n",
       "      <td>Vergnet</td>\n",
       "      <td>1986</td>\n",
       "      <td>NaN</td>\n",
       "      <td>No water committee</td>\n",
       "      <td>WASH Liberia</td>\n",
       "      <td>21/01/2011</td>\n",
       "    </tr>\n",
       "    <tr>\n",
       "      <th>2</th>\n",
       "      <td>357349</td>\n",
       "      <td>5.802157</td>\n",
       "      <td>-9.645714</td>\n",
       "      <td>Yes</td>\n",
       "      <td>Working but with problems. Not priming</td>\n",
       "      <td>2</td>\n",
       "      <td>1</td>\n",
       "      <td>0</td>\n",
       "      <td>Rivercess</td>\n",
       "      <td>Norwein</td>\n",
       "      <td>yjryl</td>\n",
       "      <td>LR</td>\n",
       "      <td>Manual pump on hand-dug well</td>\n",
       "      <td>Afridev</td>\n",
       "      <td>2008</td>\n",
       "      <td>NaN</td>\n",
       "      <td>No water committee</td>\n",
       "      <td>WASH Liberia</td>\n",
       "      <td>02/02/2011</td>\n",
       "    </tr>\n",
       "    <tr>\n",
       "      <th>3</th>\n",
       "      <td>489514</td>\n",
       "      <td>-0.541100</td>\n",
       "      <td>34.375820</td>\n",
       "      <td>No</td>\n",
       "      <td>Drought|No operation in the dry season</td>\n",
       "      <td>999</td>\n",
       "      <td>0</td>\n",
       "      <td>1</td>\n",
       "      <td>Homa Bay</td>\n",
       "      <td>Mbita</td>\n",
       "      <td>Yao Oinga</td>\n",
       "      <td>KE</td>\n",
       "      <td>NaN</td>\n",
       "      <td>Surface water</td>\n",
       "      <td>0</td>\n",
       "      <td>0</td>\n",
       "      <td>No payment system</td>\n",
       "      <td>Engineering Sciences &amp; Global Development</td>\n",
       "      <td>24/01/2011</td>\n",
       "    </tr>\n",
       "    <tr>\n",
       "      <th>4</th>\n",
       "      <td>357595</td>\n",
       "      <td>5.716055</td>\n",
       "      <td>-9.618187</td>\n",
       "      <td>No</td>\n",
       "      <td>Broken Down System. low water table</td>\n",
       "      <td>0</td>\n",
       "      <td>1</td>\n",
       "      <td>1</td>\n",
       "      <td>Rivercess</td>\n",
       "      <td>Norwein</td>\n",
       "      <td>y1ccy</td>\n",
       "      <td>LR</td>\n",
       "      <td>Manual pump on hand-dug well</td>\n",
       "      <td>Afridev</td>\n",
       "      <td>2005</td>\n",
       "      <td>NaN</td>\n",
       "      <td>No water committee</td>\n",
       "      <td>WASH Liberia</td>\n",
       "      <td>03/02/2011</td>\n",
       "    </tr>\n",
       "  </tbody>\n",
       "</table>\n",
       "</div>"
      ],
      "text/plain": [
       "   WELL_ID    LAT_DD    LONG_DD FUNC  \\\n",
       "0   362092  5.982436  -8.180609  Yes   \n",
       "1   362100  5.899207  -8.173315  Yes   \n",
       "2   357349  5.802157  -9.645714  Yes   \n",
       "3   489514 -0.541100  34.375820   No   \n",
       "4   357595  5.716055  -9.618187   No   \n",
       "\n",
       "                                              STATUS  COD_FCN  COD_QTY  \\\n",
       "0  Working but with problems. Well polluted|Under...        2        1   \n",
       "1  Working but with problems. Well polluted|Under...        2        1   \n",
       "2             Working but with problems. Not priming        2        1   \n",
       "3             Drought|No operation in the dry season      999        0   \n",
       "4                Broken Down System. low water table        0        1   \n",
       "\n",
       "   COD_RESRCE         ADM1     ADM2   ACTIVITY COUNTRY  \\\n",
       "0           0  Grand Gedeh   Tchien      zmbpw      LR   \n",
       "1           0  Grand Gedeh   Tchien      z4ja5      LR   \n",
       "2           0    Rivercess  Norwein      yjryl      LR   \n",
       "3           1     Homa Bay    Mbita  Yao Oinga      KE   \n",
       "4           1    Rivercess  Norwein      y1ccy      LR   \n",
       "\n",
       "                       WATERSRC      WATERTECH  INSTALLED MGMT  \\\n",
       "0  Manual pump on hand-dug well        Vergnet          0  NaN   \n",
       "1  Manual pump on hand-dug well        Vergnet       1986  NaN   \n",
       "2  Manual pump on hand-dug well        Afridev       2008  NaN   \n",
       "3                           NaN  Surface water          0    0   \n",
       "4  Manual pump on hand-dug well        Afridev       2005  NaN   \n",
       "\n",
       "                  PAY                                     SOURCE    RPT_DATE  \n",
       "0  No water committee                               WASH Liberia  21/01/2011  \n",
       "1  No water committee                               WASH Liberia  21/01/2011  \n",
       "2  No water committee                               WASH Liberia  02/02/2011  \n",
       "3   No payment system  Engineering Sciences & Global Development  24/01/2011  \n",
       "4  No water committee                               WASH Liberia  03/02/2011  "
      ]
     },
     "execution_count": 185,
     "metadata": {},
     "output_type": "execute_result"
    }
   ],
   "source": [
    "# Well data from GHW 2016 project\n",
    "csv = 'https://www.hydroshare.org/django_irods/download/d3659dcf575d4090801a74d1ce096d7c/data/contents/WPDx_Well_Function_Upd_151224_xy161117.csv'\n",
    "wells = pd.read_csv(csv)\n",
    "wells.head() # Quick look at the data"
   ]
  },
  {
   "cell_type": "markdown",
   "metadata": {},
   "source": [
    "# Look at some characteristics of data"
   ]
  },
  {
   "cell_type": "code",
   "execution_count": 186,
   "metadata": {},
   "outputs": [
    {
     "data": {
      "text/plain": [
       "0         2\n",
       "264191    1\n",
       "361093    1\n",
       "477820    1\n",
       "475773    1\n",
       "273024    1\n",
       "270977    1\n",
       "277122    1\n",
       "288025    1\n",
       "268934    1\n",
       "Name: WELL_ID, dtype: int64"
      ]
     },
     "execution_count": 186,
     "metadata": {},
     "output_type": "execute_result"
    }
   ],
   "source": [
    "wells.WELL_ID.value_counts()[:10] # Well ID is only used once; no repeated observations."
   ]
  },
  {
   "cell_type": "code",
   "execution_count": 187,
   "metadata": {},
   "outputs": [
    {
     "data": {
      "text/plain": [
       "Yes        8925\n",
       "No         5369\n",
       "no         3708\n",
       "missing       7\n",
       "Name: FUNC, dtype: int64"
      ]
     },
     "execution_count": 187,
     "metadata": {},
     "output_type": "execute_result"
    }
   ],
   "source": [
    "wells.FUNC.value_counts()"
   ]
  },
  {
   "cell_type": "code",
   "execution_count": 188,
   "metadata": {},
   "outputs": [
    {
     "name": "stderr",
     "output_type": "stream",
     "text": [
      "/Users/chase/anaconda/lib/python3.5/site-packages/ipykernel/__main__.py:1: SettingWithCopyWarning: \n",
      "A value is trying to be set on a copy of a slice from a DataFrame\n",
      "\n",
      "See the caveats in the documentation: http://pandas.pydata.org/pandas-docs/stable/indexing.html#indexing-view-versus-copy\n",
      "  if __name__ == '__main__':\n"
     ]
    }
   ],
   "source": [
    "wells[\"FUNC\"][wells.FUNC == \"no\"] = \"No\"   # Anyone know the right way to code this to get rid of this warning?"
   ]
  },
  {
   "cell_type": "code",
   "execution_count": 189,
   "metadata": {},
   "outputs": [
    {
     "data": {
      "text/plain": [
       "No         9077\n",
       "Yes        8925\n",
       "missing       7\n",
       "Name: FUNC, dtype: int64"
      ]
     },
     "execution_count": 189,
     "metadata": {},
     "output_type": "execute_result"
    }
   ],
   "source": [
    "wells.FUNC.value_counts()  # About half of wells don't function over entire data period"
   ]
  },
  {
   "cell_type": "code",
   "execution_count": 190,
   "metadata": {},
   "outputs": [
    {
     "data": {
      "text/plain": [
       "2012.0    3664\n",
       "2005.0    2983\n",
       "2008.0    2660\n",
       "2007.0    2013\n",
       "2006.0    1807\n",
       "2009.0    1211\n",
       "2004.0     840\n",
       "2002.0     800\n",
       "2010.0     539\n",
       "2003.0     488\n",
       "2011.0     226\n",
       "1905.0     225\n",
       "2001.0     224\n",
       "2013.0     175\n",
       "2014.0      81\n",
       "2000.0      55\n",
       "2015.0       5\n",
       "1900.0       3\n",
       "1978.0       1\n",
       "1912.0       1\n",
       "2020.0       1\n",
       "2022.0       1\n",
       "1909.0       1\n",
       "2101.0       1\n",
       "Name: RPT_YEAR, dtype: int64"
      ]
     },
     "execution_count": 190,
     "metadata": {},
     "output_type": "execute_result"
    }
   ],
   "source": [
    "# Extract year from report date\n",
    "wells.RPT_DATE = pd.to_datetime(wells.RPT_DATE)\n",
    "wells[\"RPT_YEAR\"] = wells.RPT_DATE.dt.year\n",
    "wells.RPT_YEAR.value_counts() # See how many records per year we have"
   ]
  },
  {
   "cell_type": "code",
   "execution_count": 191,
   "metadata": {},
   "outputs": [
    {
     "data": {
      "text/plain": [
       "RPT_YEAR  FUNC   \n",
       "1900.0    Yes           3\n",
       "1905.0    Yes         146\n",
       "          No           79\n",
       "1909.0    Yes           1\n",
       "1912.0    Yes           1\n",
       "1978.0    No            1\n",
       "2000.0    No           55\n",
       "2001.0    No          224\n",
       "2002.0    No          797\n",
       "          Yes           3\n",
       "2003.0    No          488\n",
       "2004.0    No          750\n",
       "          Yes          90\n",
       "2005.0    No         2009\n",
       "          Yes         974\n",
       "2006.0    No         1249\n",
       "          Yes         558\n",
       "2007.0    Yes        1517\n",
       "          No          496\n",
       "2008.0    Yes        1525\n",
       "          No         1135\n",
       "2009.0    No          743\n",
       "          Yes         468\n",
       "2010.0    No          340\n",
       "          Yes         199\n",
       "2011.0    No          119\n",
       "          Yes         107\n",
       "2012.0    Yes        3180\n",
       "          No          484\n",
       "2013.0    Yes         139\n",
       "          No           36\n",
       "2014.0    No           64\n",
       "          Yes          10\n",
       "          missing       7\n",
       "2015.0    No            4\n",
       "          Yes           1\n",
       "2020.0    Yes           1\n",
       "2022.0    Yes           1\n",
       "2101.0    Yes           1\n",
       "Name: FUNC, dtype: int64"
      ]
     },
     "execution_count": 191,
     "metadata": {},
     "output_type": "execute_result"
    }
   ],
   "source": [
    "wells.groupby(\"RPT_YEAR\").FUNC.value_counts()  # How many Yes/No functioning wells do we have per year? "
   ]
  },
  {
   "cell_type": "code",
   "execution_count": null,
   "metadata": {
    "collapsed": true
   },
   "outputs": [],
   "source": []
  }
 ],
 "metadata": {
  "kernelspec": {
   "display_name": "Python [default]",
   "language": "python",
   "name": "python3"
  },
  "language_info": {
   "codemirror_mode": {
    "name": "ipython",
    "version": 3
   },
   "file_extension": ".py",
   "mimetype": "text/x-python",
   "name": "python",
   "nbconvert_exporter": "python",
   "pygments_lexer": "ipython3",
   "version": "3.5.3"
  },
  "latex_envs": {
   "LaTeX_envs_menu_present": true,
   "autocomplete": true,
   "bibliofile": "biblio.bib",
   "cite_by": "apalike",
   "current_citInitial": 1,
   "eqLabelWithNumbers": true,
   "eqNumInitial": 1,
   "hotkeys": {
    "equation": "Ctrl-E",
    "itemize": "Ctrl-I"
   },
   "labels_anchors": false,
   "latex_user_defs": false,
   "report_style_numbering": true,
   "user_envs_cfg": false
  },
  "toc": {
   "colors": {
    "hover_highlight": "#DAA520",
    "navigate_num": "#000000",
    "navigate_text": "#333333",
    "running_highlight": "#FF0000",
    "selected_highlight": "#FFD700",
    "sidebar_border": "#EEEEEE",
    "wrapper_background": "#FFFFFF"
   },
   "moveMenuLeft": true,
   "nav_menu": {
    "height": "47px",
    "width": "252px"
   },
   "navigate_menu": true,
   "number_sections": true,
   "sideBar": true,
   "threshold": 4,
   "toc_cell": false,
   "toc_section_display": "block",
   "toc_window_display": false,
   "widenNotebook": false
  }
 },
 "nbformat": 4,
 "nbformat_minor": 2
}
